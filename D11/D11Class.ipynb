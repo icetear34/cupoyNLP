{
 "cells": [
  {
   "cell_type": "code",
   "execution_count": 1,
   "id": "following-failure",
   "metadata": {},
   "outputs": [
    {
     "name": "stderr",
     "output_type": "stream",
     "text": [
      "Building prefix dict from the default dictionary ...\n",
      "Loading model from cache C:\\Users\\Lin\\AppData\\Local\\Temp\\jieba.cache\n",
      "Loading model cost 0.695 seconds.\n",
      "Prefix dict has been built successfully.\n"
     ]
    },
    {
     "name": "stdout",
     "output_type": "stream",
     "text": [
      "output 精確模式: 我|愛|寫|程式\n",
      "output 全模式: 我|愛|寫|程式\n"
     ]
    }
   ],
   "source": [
    "import jieba\n",
    "\n",
    "sentence_1 = \"我愛寫程式\"\n",
    "sentence_2 = \"Python是一種廣泛使用的直譯式、進階程式、通用型程式語言\"\n",
    "print(\"output 精確模式: {}\".format('|'.join(jieba.cut(sentence_1, cut_all=False, HMM=False))))\n",
    "print(\"output 全模式: {}\".format('|'.join(jieba.cut(sentence_1, cut_all=True, HMM=False))))\n"
   ]
  },
  {
   "cell_type": "code",
   "execution_count": 2,
   "id": "incorporate-acting",
   "metadata": {},
   "outputs": [
    {
     "name": "stdout",
     "output_type": "stream",
     "text": [
      "output 精確模式: 精通|各|種|程式|語|言|是|一件|相|當|困|難|的|事情\n",
      "output 精確模式: 精通|各|種|程式語言|是|一件|相|當|困|難|的|事情\n"
     ]
    }
   ],
   "source": [
    "sentence_1 = \"精通各種程式語言是一件相當困難的事情\"\n",
    "print(\"output 精確模式: {}\".format('|'.join(jieba.cut(sentence_1, cut_all=False, HMM=False))))\n",
    "jieba.add_word('程式語言')\n",
    "print(\"output 精確模式: {}\".format('|'.join(jieba.cut(sentence_1, cut_all=False, HMM=False))))\n"
   ]
  },
  {
   "cell_type": "code",
   "execution_count": 3,
   "id": "buried-thomson",
   "metadata": {},
   "outputs": [
    {
     "name": "stdout",
     "output_type": "stream",
     "text": [
      "output 精確模式: 我|在|Cupoy|平台|上|學|習|自然|語|言|處|理\n",
      "output 精確模式: 我|在|Cupoy平台|上|學|習|自然語言處理\n"
     ]
    }
   ],
   "source": [
    "## 新增單詞 ，格式：每行包含一個單詞 詞頻(可省略) 詞性(可省略)\n",
    "new_words = '程式語言\\nCupoy平台\\n自然語言處理'\n",
    "with open('new_words.txt', 'w',encoding='utf-8') as file:\n",
    "\tfile.write(new_words)\n",
    "sentence_1 = \"我在Cupoy平台上學習自然語言處理\"\n",
    "print(\"output 精確模式: {}\".format('|'.join(jieba.cut(sentence_1, cut_all=False, HMM=False))))\n",
    "## 讀入字典\n",
    "jieba.load_userdict('new_words.txt')\n",
    "sentence_1 = \"我在Cupoy平台上學習自然語言處理\"\n",
    "print(\"output 精確模式: {}\".format('|'.join(jieba.cut(sentence_1, cut_all=False, HMM=False))))\n"
   ]
  },
  {
   "cell_type": "code",
   "execution_count": null,
   "id": "competitive-source",
   "metadata": {},
   "outputs": [],
   "source": []
  }
 ],
 "metadata": {
  "kernelspec": {
   "display_name": "Python 3",
   "language": "python",
   "name": "python3"
  },
  "language_info": {
   "codemirror_mode": {
    "name": "ipython",
    "version": 3
   },
   "file_extension": ".py",
   "mimetype": "text/x-python",
   "name": "python",
   "nbconvert_exporter": "python",
   "pygments_lexer": "ipython3",
   "version": "3.7.9"
  }
 },
 "nbformat": 4,
 "nbformat_minor": 5
}
